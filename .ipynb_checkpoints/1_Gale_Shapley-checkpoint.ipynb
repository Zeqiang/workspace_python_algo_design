{
 "cells": [
  {
   "cell_type": "markdown",
   "metadata": {},
   "source": [
    "# Gale_Shapley"
   ]
  },
  {
   "cell_type": "code",
   "execution_count": 1,
   "metadata": {
    "collapsed": true
   },
   "outputs": [],
   "source": [
    "import numpy as np\n",
    "import pandas as pd"
   ]
  },
  {
   "cell_type": "code",
   "execution_count": 7,
   "metadata": {},
   "outputs": [
    {
     "data": {
      "text/html": [
       "<div>\n",
       "<style>\n",
       "    .dataframe thead tr:only-child th {\n",
       "        text-align: right;\n",
       "    }\n",
       "\n",
       "    .dataframe thead th {\n",
       "        text-align: left;\n",
       "    }\n",
       "\n",
       "    .dataframe tbody tr th {\n",
       "        vertical-align: top;\n",
       "    }\n",
       "</style>\n",
       "<table border=\"1\" class=\"dataframe\">\n",
       "  <thead>\n",
       "    <tr style=\"text-align: right;\">\n",
       "      <th></th>\n",
       "      <th>0</th>\n",
       "      <th>1</th>\n",
       "      <th>2</th>\n",
       "      <th>3</th>\n",
       "      <th>4</th>\n",
       "    </tr>\n",
       "  </thead>\n",
       "  <tbody>\n",
       "    <tr>\n",
       "      <th>AAA</th>\n",
       "      <td>111</td>\n",
       "      <td>222</td>\n",
       "      <td>333</td>\n",
       "      <td>555</td>\n",
       "      <td>444</td>\n",
       "    </tr>\n",
       "    <tr>\n",
       "      <th>BBB</th>\n",
       "      <td>111</td>\n",
       "      <td>333</td>\n",
       "      <td>222</td>\n",
       "      <td>444</td>\n",
       "      <td>555</td>\n",
       "    </tr>\n",
       "    <tr>\n",
       "      <th>CCC</th>\n",
       "      <td>555</td>\n",
       "      <td>111</td>\n",
       "      <td>333</td>\n",
       "      <td>222</td>\n",
       "      <td>444</td>\n",
       "    </tr>\n",
       "    <tr>\n",
       "      <th>DDD</th>\n",
       "      <td>333</td>\n",
       "      <td>222</td>\n",
       "      <td>444</td>\n",
       "      <td>111</td>\n",
       "      <td>555</td>\n",
       "    </tr>\n",
       "    <tr>\n",
       "      <th>EEE</th>\n",
       "      <td>333</td>\n",
       "      <td>111</td>\n",
       "      <td>222</td>\n",
       "      <td>444</td>\n",
       "      <td>555</td>\n",
       "    </tr>\n",
       "  </tbody>\n",
       "</table>\n",
       "</div>"
      ],
      "text/plain": [
       "       0    1    2    3    4\n",
       "AAA  111  222  333  555  444\n",
       "BBB  111  333  222  444  555\n",
       "CCC  555  111  333  222  444\n",
       "DDD  333  222  444  111  555\n",
       "EEE  333  111  222  444  555"
      ]
     },
     "execution_count": 7,
     "metadata": {},
     "output_type": "execute_result"
    }
   ],
   "source": [
    "man=np.array([['111','222','333','555','444'],              \n",
    "              ['111','333','222','444','555'],\n",
    "              ['555','111','333','222','444'],\n",
    "              ['333','222','444','111','555'],\n",
    "              ['333','111','222','444','555'],                                                                                \n",
    "              ])\n",
    "\n",
    "a=['AAA','BBB','CCC','DDD','EEE']\n",
    "pdman=pd.DataFrame(man,index=a)\n",
    "\n",
    "pdman"
   ]
  },
  {
   "cell_type": "code",
   "execution_count": 8,
   "metadata": {},
   "outputs": [
    {
     "data": {
      "text/html": [
       "<div>\n",
       "<style>\n",
       "    .dataframe thead tr:only-child th {\n",
       "        text-align: right;\n",
       "    }\n",
       "\n",
       "    .dataframe thead th {\n",
       "        text-align: left;\n",
       "    }\n",
       "\n",
       "    .dataframe tbody tr th {\n",
       "        vertical-align: top;\n",
       "    }\n",
       "</style>\n",
       "<table border=\"1\" class=\"dataframe\">\n",
       "  <thead>\n",
       "    <tr style=\"text-align: right;\">\n",
       "      <th></th>\n",
       "      <th>0</th>\n",
       "      <th>1</th>\n",
       "      <th>2</th>\n",
       "      <th>3</th>\n",
       "      <th>4</th>\n",
       "    </tr>\n",
       "  </thead>\n",
       "  <tbody>\n",
       "    <tr>\n",
       "      <th>111</th>\n",
       "      <td>EEE</td>\n",
       "      <td>AAA</td>\n",
       "      <td>BBB</td>\n",
       "      <td>DDD</td>\n",
       "      <td>CCC</td>\n",
       "    </tr>\n",
       "    <tr>\n",
       "      <th>222</th>\n",
       "      <td>DDD</td>\n",
       "      <td>BBB</td>\n",
       "      <td>CCC</td>\n",
       "      <td>AAA</td>\n",
       "      <td>EEE</td>\n",
       "    </tr>\n",
       "    <tr>\n",
       "      <th>333</th>\n",
       "      <td>DDD</td>\n",
       "      <td>CCC</td>\n",
       "      <td>BBB</td>\n",
       "      <td>EEE</td>\n",
       "      <td>AAA</td>\n",
       "    </tr>\n",
       "    <tr>\n",
       "      <th>444</th>\n",
       "      <td>AAA</td>\n",
       "      <td>BBB</td>\n",
       "      <td>DDD</td>\n",
       "      <td>CCC</td>\n",
       "      <td>EEE</td>\n",
       "    </tr>\n",
       "    <tr>\n",
       "      <th>555</th>\n",
       "      <td>CCC</td>\n",
       "      <td>DDD</td>\n",
       "      <td>EEE</td>\n",
       "      <td>BBB</td>\n",
       "      <td>AAA</td>\n",
       "    </tr>\n",
       "  </tbody>\n",
       "</table>\n",
       "</div>"
      ],
      "text/plain": [
       "       0    1    2    3    4\n",
       "111  EEE  AAA  BBB  DDD  CCC\n",
       "222  DDD  BBB  CCC  AAA  EEE\n",
       "333  DDD  CCC  BBB  EEE  AAA\n",
       "444  AAA  BBB  DDD  CCC  EEE\n",
       "555  CCC  DDD  EEE  BBB  AAA"
      ]
     },
     "execution_count": 8,
     "metadata": {},
     "output_type": "execute_result"
    }
   ],
   "source": [
    "woman=np.array([['EEE','AAA','BBB','DDD','CCC'],\n",
    "               ['DDD','BBB','CCC','AAA','EEE'],\n",
    "               ['DDD','CCC','BBB','EEE','AAA'],\n",
    "               ['AAA','BBB','DDD','CCC','EEE'],\n",
    "               ['CCC','DDD','EEE','BBB','AAA'],                                                                             \n",
    "               ])    \n",
    "\n",
    "\n",
    "b=['111','222','333','444','555']\n",
    "pdwoman=pd.DataFrame(woman,index=b)\n",
    "\n",
    "pdwoman"
   ]
  },
  {
   "cell_type": "code",
   "execution_count": 10,
   "metadata": {
    "collapsed": true
   },
   "outputs": [],
   "source": [
    "def perfect_match(a,pdman,pdwoman):\n",
    "    sd=pd.Series()\n",
    "    while len(a)>0:\n",
    "\n",
    "\n",
    "        sset=sd.index\n",
    "        pp=pdman.loc[a[0]] \n",
    "        for i in list(pp):\n",
    "            if i in sset:\n",
    "\n",
    "                mmm=sd[i]\n",
    "                po=pdwoman.loc[i]\n",
    "                kl= list(po)\n",
    "                p=kl.index(mmm)\n",
    "                q=kl.index(a[0])\n",
    "                if p<q:\n",
    "                    continue\n",
    "                else:\n",
    "                    sd[i]=a[0]\n",
    "                    #sd.drop(k)\n",
    "                    a.remove(a[0])\n",
    "                    a.append(mmm)\n",
    "                    break\n",
    "            else:\n",
    "                sd[i]=a[0]\n",
    "                a.remove(a[0])\n",
    "                break\n",
    "    return sd"
   ]
  },
  {
   "cell_type": "code",
   "execution_count": 11,
   "metadata": {},
   "outputs": [
    {
     "data": {
      "text/plain": [
       "111    EEE\n",
       "333    DDD\n",
       "555    CCC\n",
       "222    BBB\n",
       "444    AAA\n",
       "dtype: object"
      ]
     },
     "execution_count": 11,
     "metadata": {},
     "output_type": "execute_result"
    }
   ],
   "source": [
    "match=perfect_match(a,pdman,pdwoman)\n",
    "match"
   ]
  },
  {
   "cell_type": "code",
   "execution_count": null,
   "metadata": {
    "collapsed": true
   },
   "outputs": [],
   "source": []
  }
 ],
 "metadata": {
  "kernelspec": {
   "display_name": "Python 3",
   "language": "python",
   "name": "python3"
  },
  "language_info": {
   "codemirror_mode": {
    "name": "ipython",
    "version": 3
   },
   "file_extension": ".py",
   "mimetype": "text/x-python",
   "name": "python",
   "nbconvert_exporter": "python",
   "pygments_lexer": "ipython3",
   "version": "3.6.3"
  }
 },
 "nbformat": 4,
 "nbformat_minor": 2
}
